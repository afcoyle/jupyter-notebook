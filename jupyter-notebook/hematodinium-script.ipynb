{
 "cells": [
  {
   "cell_type": "markdown",
   "metadata": {},
   "source": [
    "**BLASTing hematodinium transcriptome against Swiss-prot database"
   ]
  },
  {
   "cell_type": "code",
   "execution_count": null,
   "metadata": {
    "scrolled": true
   },
   "outputs": [],
   "source": [
    "%%bash\n",
    "curl -o uniprot_sprot.fasta.gz \\\n",
    "ftp://ftp.uniprot.org/pub/databases/uniprot/current_release/knowledgebase/complete/uniprot_sprot.fasta.gz\n",
    "    "
   ]
  },
  {
   "cell_type": "code",
   "execution_count": 2,
   "metadata": {},
   "outputs": [
    {
     "name": "stdout",
     "output_type": "stream",
     "text": [
      "Untitled.ipynb\thematodinium-script.ipynb  uniprot_sprot.fasta.gz\r\n"
     ]
    }
   ],
   "source": [
    "!ls"
   ]
  },
  {
   "cell_type": "code",
   "execution_count": 3,
   "metadata": {},
   "outputs": [],
   "source": [
    "%%bash\n",
    "gunzip uniprot_sprot.fasta.gz"
   ]
  },
  {
   "cell_type": "code",
   "execution_count": 4,
   "metadata": {},
   "outputs": [
    {
     "name": "stdout",
     "output_type": "stream",
     "text": [
      "\n",
      "\n",
      "Building a new DB, current time: 09/22/2020 12:03:33\n",
      "New DB name:   /mnt/c/Users/acoyl/Documents/GitHub/jupyter-notebook/uniprot_sprot_r2020_09\n",
      "New DB title:  /mnt/c/Users/acoyl/Documents/GitHub/jupyter-notebook/uniprot_sprot.fasta\n",
      "Sequence type: Protein\n",
      "Keep MBits: T\n",
      "Maximum file size: 1000000000B\n",
      "Adding sequences from FASTA; added 563082 sequences in 99.8681 seconds.\n"
     ]
    }
   ],
   "source": [
    "%%bash\n",
    "makeblastdb \\\n",
    "-in /mnt/c/Users/acoyl/Documents/GitHub/jupyter-notebook/uniprot_sprot.fasta \\\n",
    "-dbtype prot \\\n",
    "-out /mnt/c/Users/acoyl/Documents/GitHub/jupyter-notebook/uniprot_sprot_r2020_09"
   ]
  },
  {
   "cell_type": "code",
   "execution_count": 5,
   "metadata": {},
   "outputs": [
    {
     "name": "stderr",
     "output_type": "stream",
     "text": [
      "  % Total    % Received % Xferd  Average Speed   Time    Time     Time  Current\n",
      "                                 Dload  Upload   Total   Spent    Left  Speed\n",
      "\r",
      "  0     0    0     0    0     0      0      0 --:--:-- --:--:-- --:--:--     0\r",
      "  0     0    0     0    0     0      0      0 --:--:-- --:--:-- --:--:--     0\r",
      " 27 4420k   27 1211k    0     0  1065k      0  0:00:04  0:00:01  0:00:03 1065k\r",
      " 91 4420k   91 4050k    0     0  1895k      0  0:00:02  0:00:02 --:--:-- 1895k\r",
      "100 4420k  100 4420k    0     0  1973k      0  0:00:02  0:00:02 --:--:-- 1973k\n"
     ]
    }
   ],
   "source": [
    "%%bash\n",
    "curl -k --insecure -o hemat.fasta \\\n",
    "https://owl.fish.washington.edu/halfshell/genomic-databank/hemat_transcriptome_v1.5.fasta"
   ]
  },
  {
   "cell_type": "code",
   "execution_count": 6,
   "metadata": {},
   "outputs": [
    {
     "name": "stderr",
     "output_type": "stream",
     "text": [
      "Warning: [blastx] Examining 5 or more matches is recommended\n"
     ]
    }
   ],
   "source": [
    "%%bash\n",
    "blastx \\\n",
    "-query /mnt/c/Users/acoyl/Documents/GitHub/jupyter-notebook/hemat.fasta \\\n",
    "-db /mnt/c/Users/acoyl/Documents/GitHub/jupyter-notebook/uniprot_sprot_r2020_09 \\\n",
    "-out /mnt/c/Users/acoyl/Documents/GitHub/jupyter-notebook/hemat_uniprot_blastx.tab \\\n",
    "-evalue 1E-20 \\\n",
    "-num_threads 4 \\\n",
    "-max_hsps 1 \\\n",
    "-max_target_seqs 1 \\\n",
    "-outfmt 6"
   ]
  },
  {
   "cell_type": "code",
   "execution_count": null,
   "metadata": {},
   "outputs": [],
   "source": []
  }
 ],
 "metadata": {
  "kernelspec": {
   "display_name": "Python 3",
   "language": "python",
   "name": "python3"
  },
  "language_info": {
   "codemirror_mode": {
    "name": "ipython",
    "version": 3
   },
   "file_extension": ".py",
   "mimetype": "text/x-python",
   "name": "python",
   "nbconvert_exporter": "python",
   "pygments_lexer": "ipython3",
   "version": "3.8.3"
  }
 },
 "nbformat": 4,
 "nbformat_minor": 4
}
