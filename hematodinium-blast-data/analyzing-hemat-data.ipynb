{
 "cells": [
  {
   "cell_type": "markdown",
   "metadata": {},
   "source": [
    "**Analyzing hematodinium transcriptome blasts**\n",
    "\n",
    "I'll be analyzing the two blasts (one with a max hsps value of 1, the other with no max hsps value) and determining some of the differences between them\n"
   ]
  },
  {
   "cell_type": "markdown",
   "metadata": {},
   "source": [
    "**Determining length differences between our two blasts**\n"
   ]
  },
  {
   "cell_type": "code",
   "execution_count": 1,
   "metadata": {},
   "outputs": [
    {
     "name": "stdout",
     "output_type": "stream",
     "text": [
      "2862 hemat_uniprot_maxhsps_blastx.tab\n"
     ]
    }
   ],
   "source": [
    "%%bash\n",
    "#determining number of lines for max_hsps blast\n",
    "wc -l hemat_uniprot_maxhsps_blastx.tab"
   ]
  },
  {
   "cell_type": "code",
   "execution_count": 2,
   "metadata": {},
   "outputs": [
    {
     "name": "stdout",
     "output_type": "stream",
     "text": [
      "2941 hemat_uniprot_nomaxhsps_blastx.tab\n"
     ]
    }
   ],
   "source": [
    "%%bash\n",
    "#determining number of lines for blast w/o max_hsps value\n",
    "wc -l hemat_uniprot_nomaxhsps_blastx.tab"
   ]
  },
  {
   "cell_type": "markdown",
   "metadata": {},
   "source": [
    "Note: For both blasts, max_target_seqs was set to 1\n",
    "After some googling, it looks like the discrepancy between maxhsps and nomaxhsps is due to the max_target_seqs variable. Essentially, if there are multiple HSPs for a single query, they'll all be included. However, the addition of max_hsps reduces it to grabbing only 1 HSP per subject"
   ]
  },
  {
   "cell_type": "markdown",
   "metadata": {},
   "source": [
    "**Finding which queries were unmatched**"
   ]
  },
  {
   "cell_type": "code",
   "execution_count": 3,
   "metadata": {},
   "outputs": [
    {
     "name": "stdout",
     "output_type": "stream",
     "text": [
      "6348\n"
     ]
    }
   ],
   "source": [
    "%%bash\n",
    "#Checking how many sequences there were in our original file\n",
    "grep -c \">\" hemat.fasta"
   ]
  },
  {
   "cell_type": "code",
   "execution_count": 4,
   "metadata": {},
   "outputs": [
    {
     "name": "stdout",
     "output_type": "stream",
     "text": [
      "6348\r\n"
     ]
    }
   ],
   "source": [
    "!grep -c \"TRINITY\" hemat.fasta\n",
    "#Alright, all queries start with TRINITY"
   ]
  },
  {
   "cell_type": "code",
   "execution_count": 5,
   "metadata": {},
   "outputs": [],
   "source": [
    "!grep -o 'TRINITY[^ ]*' hemat.fasta > hemat_queries.txt\n",
    "#selecting only query names. NOTE: Keep em as a text file, not .fasta or .tab or anything!"
   ]
  },
  {
   "cell_type": "code",
   "execution_count": 6,
   "metadata": {},
   "outputs": [],
   "source": [
    "!grep -o 'TRINITY[^sp]*' hemat_uniprot_maxhsps_blastx.tab > hemat_uniprot_maxhsps_subjects_blastx.txt\n",
    "# selecting only matches"
   ]
  },
  {
   "cell_type": "code",
   "execution_count": 7,
   "metadata": {},
   "outputs": [
    {
     "name": "stdout",
     "output_type": "stream",
     "text": [
      "TRINITY_DN5655_c0_g1_i1\t\r\n",
      "TRINITY_DN5691_c0_g1_i1\t\r\n",
      "TRINITY_DN5627_c0_g1_i1\t\r\n",
      "TRINITY_DN5653_c0_g1_i1\t\r\n",
      "TRINITY_DN5610_c0_g1_i1\t\r\n",
      "TRINITY_DN5607_c0_g1_i1\t\r\n",
      "TRINITY_DN5630_c0_g1_i1\t\r\n",
      "TRINITY_DN5664_c0_g1_i1\t\r\n",
      "TRINITY_DN5613_c0_g1_i1\t\r\n",
      "TRINITY_DN5644_c0_g1_i1\t\r\n"
     ]
    }
   ],
   "source": [
    "!head hemat_uniprot_maxhsps_subjects_blastx.txt\n",
    "#Confirmation that our formatting works!"
   ]
  },
  {
   "cell_type": "code",
   "execution_count": 8,
   "metadata": {},
   "outputs": [],
   "source": [
    "!diff -u -w hemat_uniprot_maxhsps_subjects_blastx.txt hemat_queries.txt | grep -o '+[^ ]*' > unmatched_ncbi_queries.txt\n",
    "#find differences between our matches and queries, output all unmatched queries to a new file"
   ]
  },
  {
   "cell_type": "code",
   "execution_count": 9,
   "metadata": {},
   "outputs": [
    {
     "name": "stdout",
     "output_type": "stream",
     "text": [
      "+++\r\n",
      "+1,223\r\n",
      "+TRINITY_DN5656_c0_g1_i1\r\n",
      "+TRINITY_DN5625_c0_g1_i1\r\n",
      "+TRINITY_DN5680_c0_g1_i1\r\n",
      "+TRINITY_DN5636_c0_g1_i1\r\n",
      "+TRINITY_DN5633_c0_g1_i1\r\n",
      "+TRINITY_DN5693_c0_g1_i1\r\n",
      "+TRINITY_DN5603_c0_g1_i1\r\n",
      "+TRINITY_DN5676_c0_g1_i1\r\n"
     ]
    }
   ],
   "source": [
    "!head unmatched_ncbi_queries.txt\n",
    "# looks like we've still got some pesky notation laying around..."
   ]
  },
  {
   "cell_type": "code",
   "execution_count": 10,
   "metadata": {},
   "outputs": [],
   "source": [
    "!tr -d \\+ < unmatched_ncbi_queries.txt >cleaned_unmatched_ncbi_queries.txt\n",
    "#Eliminate all + signs from the file"
   ]
  },
  {
   "cell_type": "code",
   "execution_count": 11,
   "metadata": {},
   "outputs": [
    {
     "name": "stdout",
     "output_type": "stream",
     "text": [
      "\r\n",
      "1,223\r\n",
      "TRINITY_DN5656_c0_g1_i1\r\n",
      "TRINITY_DN5625_c0_g1_i1\r\n",
      "TRINITY_DN5680_c0_g1_i1\r\n",
      "TRINITY_DN5636_c0_g1_i1\r\n",
      "TRINITY_DN5633_c0_g1_i1\r\n",
      "TRINITY_DN5693_c0_g1_i1\r\n",
      "TRINITY_DN5603_c0_g1_i1\r\n",
      "TRINITY_DN5676_c0_g1_i1\r\n"
     ]
    }
   ],
   "source": [
    "!head cleaned_unmatched_ncbi_queries.txt\n",
    "#The header from our diff command is still there..."
   ]
  },
  {
   "cell_type": "code",
   "execution_count": 12,
   "metadata": {},
   "outputs": [],
   "source": [
    "!sed -i '1,2d;' cleaned_unmatched_ncbi_queries.txt\n",
    "#Delete the first two lines of the file - first line is empty, second is 1,223"
   ]
  },
  {
   "cell_type": "code",
   "execution_count": 13,
   "metadata": {},
   "outputs": [
    {
     "name": "stdout",
     "output_type": "stream",
     "text": [
      "TRINITY_DN5656_c0_g1_i1\r\n",
      "TRINITY_DN5625_c0_g1_i1\r\n",
      "TRINITY_DN5680_c0_g1_i1\r\n",
      "TRINITY_DN5636_c0_g1_i1\r\n",
      "TRINITY_DN5633_c0_g1_i1\r\n",
      "TRINITY_DN5693_c0_g1_i1\r\n",
      "TRINITY_DN5603_c0_g1_i1\r\n",
      "TRINITY_DN5676_c0_g1_i1\r\n",
      "TRINITY_DN5661_c0_g1_i1\r\n",
      "TRINITY_DN5661_c0_g1_i2\r\n"
     ]
    }
   ],
   "source": [
    "!head cleaned_unmatched_ncbi_queries.txt\n",
    "#Success!! We now have a full list of unmatched queries"
   ]
  },
  {
   "cell_type": "code",
   "execution_count": 14,
   "metadata": {},
   "outputs": [
    {
     "name": "stdout",
     "output_type": "stream",
     "text": [
      "3486\r\n"
     ]
    }
   ],
   "source": [
    "!grep -c \"TRINITY\" cleaned_unmatched_ncbi_queries.txt\n",
    "#Okay, it's got the correct number of queries"
   ]
  },
  {
   "cell_type": "code",
   "execution_count": 15,
   "metadata": {},
   "outputs": [
    {
     "name": "stdout",
     "output_type": "stream",
     "text": [
      "3536 cleaned_unmatched_ncbi_queries.txt\r\n"
     ]
    }
   ],
   "source": [
    "!wc -l cleaned_unmatched_ncbi_queries.txt\n",
    "#But the total number of lines is off by 50. Ran cat, and looks like there's 50 lines that are just numbers"
   ]
  },
  {
   "cell_type": "code",
   "execution_count": 16,
   "metadata": {},
   "outputs": [],
   "source": [
    "!sort hemat_uniprot_maxhsps_subjects_blastx.txt | uniq -d\n",
    "#Checking it's not from duplicates in either input file - uniq searches for unique lines, -d prints only duplicates"
   ]
  },
  {
   "cell_type": "code",
   "execution_count": 17,
   "metadata": {},
   "outputs": [],
   "source": [
    "!sort hemat_queries.txt | uniq -d\n",
    "#Finishing the duplicate check - again, none found"
   ]
  },
  {
   "cell_type": "code",
   "execution_count": 18,
   "metadata": {},
   "outputs": [],
   "source": [
    "!grep -v '^[0-9]' cleaned_unmatched_ncbi_queries.txt > final_unmatched_ncbi_queries.txt\n",
    "#Alright, let's get rid of all those lines that begin with numbers"
   ]
  },
  {
   "cell_type": "code",
   "execution_count": 19,
   "metadata": {},
   "outputs": [
    {
     "name": "stdout",
     "output_type": "stream",
     "text": [
      "3486 final_unmatched_ncbi_queries.txt\r\n"
     ]
    }
   ],
   "source": [
    "!wc -l final_unmatched_ncbi_queries.txt\n",
    "#Perfect! We now have a full list of all unmatched queries!"
   ]
  },
  {
   "cell_type": "markdown",
   "metadata": {},
   "source": [
    "**Re-run BLAST using DIAMOND BLASTx**\n",
    "To download DIAMOND, follow the instructions at http://www.diamondsearch.org/index.php. Make sure you don't forget to update PATH if necessary!"
   ]
  },
  {
   "cell_type": "code",
   "execution_count": 20,
   "metadata": {},
   "outputs": [
    {
     "name": "stdout",
     "output_type": "stream",
     "text": [
      "diamond v2.0.4.142 (C) Max Planck Society for the Advancement of Science\n",
      "Documentation, support and updates available at http://www.diamondsearch.org\n",
      "\n",
      "#CPU threads: 4\n",
      "Scoring parameters: (Matrix=BLOSUM62 Lambda=0.267 K=0.041 Penalties=11/1)\n",
      "Temporary directory: \n",
      "Opening the database...  [0.546s]\n",
      "#Target sequences to report alignments for: 1\n",
      "Reference = uniprot_sprot_diamond.dmnd\n",
      "Sequences = 563082\n",
      "Letters = 202799066\n",
      "Block size = 2000000000\n",
      "Opening the input file...  [0.028s]\n",
      "Opening the output file...  [0.001s]\n",
      "Loading query sequences...  [0.073s]\n",
      "Masking queries...  [0.129s]\n",
      "Building query seed set...  [0.029s]\n",
      "Algorithm: Double-indexed\n",
      "Building query histograms...  [0.045s]\n",
      "Allocating buffers...  [0s]\n",
      "Loading reference sequences...  [1.628s]\n",
      "Masking reference...  [2.712s]\n",
      "Initializing temporary storage...  [0.032s]\n",
      "Building reference histograms...  [1.34s]\n",
      "Allocating buffers...  [0s]\n",
      "Processing query block 1, reference block 1/1, shape 1/2, index chunk 1/4.\n",
      "Building reference seed array...  [1.248s]\n",
      "Building query seed array...  [0.046s]\n",
      "Computing hash join...  [0.164s]\n",
      "Building seed filter...  [0.001s]\n",
      "Searching alignments...  [0.104s]\n",
      "Processing query block 1, reference block 1/1, shape 1/2, index chunk 2/4.\n",
      "Building reference seed array...  [1.051s]\n",
      "Building query seed array...  [0.036s]\n",
      "Computing hash join...  [0.163s]\n",
      "Building seed filter...  [0.001s]\n",
      "Searching alignments...  [0.07s]\n",
      "Processing query block 1, reference block 1/1, shape 1/2, index chunk 3/4.\n",
      "Building reference seed array...  [1.125s]\n",
      "Building query seed array...  [0.041s]\n",
      "Computing hash join...  [0.166s]\n",
      "Building seed filter...  [0.001s]\n",
      "Searching alignments...  [0.074s]\n",
      "Processing query block 1, reference block 1/1, shape 1/2, index chunk 4/4.\n",
      "Building reference seed array...  [0.9s]\n",
      "Building query seed array...  [0.033s]\n",
      "Computing hash join...  [0.163s]\n",
      "Building seed filter...  [0.001s]\n",
      "Searching alignments...  [0.084s]\n",
      "Processing query block 1, reference block 1/1, shape 2/2, index chunk 1/4.\n",
      "Building reference seed array...  [0.871s]\n",
      "Building query seed array...  [0.03s]\n",
      "Computing hash join...  [0.169s]\n",
      "Building seed filter...  [0.001s]\n",
      "Searching alignments...  [0.069s]\n",
      "Processing query block 1, reference block 1/1, shape 2/2, index chunk 2/4.\n",
      "Building reference seed array...  [1.071s]\n",
      "Building query seed array...  [0.042s]\n",
      "Computing hash join...  [0.18s]\n",
      "Building seed filter...  [0.001s]\n",
      "Searching alignments...  [0.068s]\n",
      "Processing query block 1, reference block 1/1, shape 2/2, index chunk 3/4.\n",
      "Building reference seed array...  [1.16s]\n",
      "Building query seed array...  [0.037s]\n",
      "Computing hash join...  [0.178s]\n",
      "Building seed filter...  [0.002s]\n",
      "Searching alignments...  [0.07s]\n",
      "Processing query block 1, reference block 1/1, shape 2/2, index chunk 4/4.\n",
      "Building reference seed array...  [1.152s]\n",
      "Building query seed array...  [0.041s]\n",
      "Computing hash join...  [0.197s]\n",
      "Building seed filter...  [0.001s]\n",
      "Searching alignments...  [0.066s]\n",
      "Deallocating buffers...  [0.001s]\n",
      "Clearing query masking...  [0.002s]\n",
      "Computing alignments...  [2.114s]\n",
      "Deallocating reference...  [0.001s]\n",
      "Loading reference sequences...  [0s]\n",
      "Deallocating buffers...  [0s]\n",
      "Deallocating queries...  [0s]\n",
      "Loading query sequences...  [0s]\n",
      "Closing the input file...  [0s]\n",
      "Closing the output file...  [0.007s]\n",
      "Closing the database file...  [0s]\n",
      "Deallocating taxonomy...  [0s]\n",
      "Total time = 19.602s\n",
      "Reported 2501 pairwise alignments, 2501 HSPs.\n",
      "2501 queries aligned.\n"
     ]
    }
   ],
   "source": [
    "!diamond blastx \\\n",
    "--query hemat.fasta \\\n",
    "--db uniprot_sprot_diamond.dmnd \\\n",
    "--out hemat_diamond_nomaxhsps.m8 \\\n",
    "--evalue 1E-20 \\\n",
    "--threads 4 \\\n",
    "--max-target-seqs 1 \\\n",
    "--outfmt 6\n",
    "#running DIAMOND BLASTx with the same settings as our prior two blasts\n",
    "#Note the changes in options formatting!\n",
    "#Again, will be running BLASTx twice, once with max_hsps at 1, the other with no max_hsps value"
   ]
  },
  {
   "cell_type": "code",
   "execution_count": 21,
   "metadata": {},
   "outputs": [
    {
     "name": "stdout",
     "output_type": "stream",
     "text": [
      "diamond v2.0.4.142 (C) Max Planck Society for the Advancement of Science\n",
      "Documentation, support and updates available at http://www.diamondsearch.org\n",
      "\n",
      "#CPU threads: 4\n",
      "Scoring parameters: (Matrix=BLOSUM62 Lambda=0.267 K=0.041 Penalties=11/1)\n",
      "Temporary directory: \n",
      "Opening the database...  [0.349s]\n",
      "#Target sequences to report alignments for: 1\n",
      "Reference = uniprot_sprot_diamond.dmnd\n",
      "Sequences = 563082\n",
      "Letters = 202799066\n",
      "Block size = 2000000000\n",
      "Opening the input file...  [0.01s]\n",
      "Opening the output file...  [0s]\n",
      "Loading query sequences...  [0.036s]\n",
      "Masking queries...  [0.15s]\n",
      "Building query seed set...  [0.027s]\n",
      "Algorithm: Double-indexed\n",
      "Building query histograms...  [0.05s]\n",
      "Allocating buffers...  [0s]\n",
      "Loading reference sequences...  [0.99s]\n",
      "Masking reference...  [3.129s]\n",
      "Initializing temporary storage...  [0.024s]\n",
      "Building reference histograms...  [1.501s]\n",
      "Allocating buffers...  [0s]\n",
      "Processing query block 1, reference block 1/1, shape 1/2, index chunk 1/4.\n",
      "Building reference seed array...  [0.983s]\n",
      "Building query seed array...  [0.037s]\n",
      "Computing hash join...  [0.168s]\n",
      "Building seed filter...  [0.001s]\n",
      "Searching alignments...  [0.093s]\n",
      "Processing query block 1, reference block 1/1, shape 1/2, index chunk 2/4.\n",
      "Building reference seed array...  [1.138s]\n",
      "Building query seed array...  [0.037s]\n",
      "Computing hash join...  [0.167s]\n",
      "Building seed filter...  [0.001s]\n",
      "Searching alignments...  [0.072s]\n",
      "Processing query block 1, reference block 1/1, shape 1/2, index chunk 3/4.\n",
      "Building reference seed array...  [1.22s]\n",
      "Building query seed array...  [0.038s]\n",
      "Computing hash join...  [0.173s]\n",
      "Building seed filter...  [0.001s]\n",
      "Searching alignments...  [0.065s]\n",
      "Processing query block 1, reference block 1/1, shape 1/2, index chunk 4/4.\n",
      "Building reference seed array...  [0.931s]\n",
      "Building query seed array...  [0.033s]\n",
      "Computing hash join...  [0.174s]\n",
      "Building seed filter...  [0.001s]\n",
      "Searching alignments...  [0.064s]\n",
      "Processing query block 1, reference block 1/1, shape 2/2, index chunk 1/4.\n",
      "Building reference seed array...  [0.962s]\n",
      "Building query seed array...  [0.039s]\n",
      "Computing hash join...  [0.193s]\n",
      "Building seed filter...  [0.001s]\n",
      "Searching alignments...  [0.072s]\n",
      "Processing query block 1, reference block 1/1, shape 2/2, index chunk 2/4.\n",
      "Building reference seed array...  [1.204s]\n",
      "Building query seed array...  [0.065s]\n",
      "Computing hash join...  [0.235s]\n",
      "Building seed filter...  [0.001s]\n",
      "Searching alignments...  [0.068s]\n",
      "Processing query block 1, reference block 1/1, shape 2/2, index chunk 3/4.\n",
      "Building reference seed array...  [1.247s]\n",
      "Building query seed array...  [0.044s]\n",
      "Computing hash join...  [0.183s]\n",
      "Building seed filter...  [0.001s]\n",
      "Searching alignments...  [0.066s]\n",
      "Processing query block 1, reference block 1/1, shape 2/2, index chunk 4/4.\n",
      "Building reference seed array...  [0.987s]\n",
      "Building query seed array...  [0.038s]\n",
      "Computing hash join...  [0.21s]\n",
      "Building seed filter...  [0.001s]\n",
      "Searching alignments...  [0.063s]\n",
      "Deallocating buffers...  [0.001s]\n",
      "Clearing query masking...  [0.001s]\n",
      "Computing alignments...  [1.927s]\n",
      "Deallocating reference...  [0s]\n",
      "Loading reference sequences...  [0s]\n",
      "Deallocating buffers...  [0s]\n",
      "Deallocating queries...  [0s]\n",
      "Loading query sequences...  [0s]\n",
      "Closing the input file...  [0s]\n",
      "Closing the output file...  [0.006s]\n",
      "Closing the database file...  [0s]\n",
      "Deallocating taxonomy...  [0s]\n",
      "Total time = 19.318s\n",
      "Reported 2501 pairwise alignments, 2501 HSPs.\n",
      "2501 queries aligned.\n"
     ]
    }
   ],
   "source": [
    "!diamond blastx \\\n",
    "--query hemat.fasta \\\n",
    "--db uniprot_sprot_diamond.dmnd \\\n",
    "--out hemat_diamond_maxhsps.m8 \\\n",
    "--evalue 1E-20 \\\n",
    "--threads 4 \\\n",
    "--max-hsps 1 \\\n",
    "--max-target-seqs 1 \\\n",
    "--outfmt 6\n",
    "#Running DIAMOND BLASTx one more time, now with max-hsps = 1"
   ]
  },
  {
   "cell_type": "markdown",
   "metadata": {},
   "source": [
    "**COMPARISONS OF DIAMOND BLASTX AND NCBI BLASTX**\n",
    "\n",
    "**Speed**: \n",
    "\n",
    "NCBI BLASTx took multiple hours\n",
    "\n",
    "DIAMOND BLASTx took several minutes\n",
    "\n",
    "**Length**\n",
    "\n",
    "NCBI BLASTx\n",
    "\n",
    "    No max hsps: 2941 matches\n",
    "    \n",
    "    Max hsps: 2862 matches\n",
    "DIAMOND BLASTx\n",
    "\n",
    "    No max hsps: 2501\n",
    "    \n",
    "    Max hsps: 2501\n",
    "    \n",
    "Overall:\n",
    "    DIAMOND BLASTx had fewer matches, and no disparity in lines between the two runs\n",
    "    \n",
    "**Matches**\n",
    "\n",
    "An analysis of Swiss-Prot IDs for NCBI and DIAMOND BLASTx will start below here"
   ]
  },
  {
   "cell_type": "code",
   "execution_count": 29,
   "metadata": {},
   "outputs": [],
   "source": [
    "!grep -o 'TRINITY[^sp]*' hemat_diamond_maxhsps.m8 > hemat_diamond_maxhsps_matches.txt\n",
    "#Pull IDs from DIAMOND BLASTx results"
   ]
  },
  {
   "cell_type": "code",
   "execution_count": 31,
   "metadata": {
    "scrolled": true
   },
   "outputs": [],
   "source": [
    "!comm -2 -3 <(sort hemat_diamond_maxhsps_matches.txt) <(sort hemat_uniprot_maxhsps_subjects_blastx.txt) > unique_diamond_matches.txt\n",
    "#Pull matches that are unique to DIAMOND BLASTx"
   ]
  },
  {
   "cell_type": "code",
   "execution_count": 35,
   "metadata": {},
   "outputs": [],
   "source": [
    "!comm -1 -3 <(sort hemat_diamond_maxhsps_matches.txt) <(sort hemat_uniprot_maxhsps_subjects_blastx.txt) > unique_ncbi_matches.txt\n",
    "#Pull matches that are unique to NCBI BLASTx"
   ]
  },
  {
   "cell_type": "code",
   "execution_count": 36,
   "metadata": {},
   "outputs": [
    {
     "name": "stdout",
     "output_type": "stream",
     "text": [
      "26 unique_diamond_matches.txt\r\n"
     ]
    }
   ],
   "source": [
    "!wc -l unique_diamond_matches.txt"
   ]
  },
  {
   "cell_type": "code",
   "execution_count": 37,
   "metadata": {},
   "outputs": [
    {
     "name": "stdout",
     "output_type": "stream",
     "text": [
      "387 unique_ncbi_matches.txt\r\n"
     ]
    }
   ],
   "source": [
    "!wc -l unique_ncbi_matches.txt"
   ]
  },
  {
   "cell_type": "code",
   "execution_count": 38,
   "metadata": {},
   "outputs": [],
   "source": [
    "!diff -u -w hemat_diamond_maxhsps_matches.txt hemat_queries.txt | grep -o '+[^ ]*' > unmatched_diamond_queries.txt\n",
    "#Pull all queries that weren't matched by DIAMOND BLASTx"
   ]
  },
  {
   "cell_type": "code",
   "execution_count": 39,
   "metadata": {},
   "outputs": [],
   "source": [
    "!tr -d \\+ < unmatched_diamond_queries.txt >cleaned_unmatched_diamond_queries.txt\n",
    "#Remove the + sign from queries that were unmatched by DIAMOND"
   ]
  },
  {
   "cell_type": "code",
   "execution_count": 40,
   "metadata": {},
   "outputs": [],
   "source": [
    "!sed -i '1,2d;' cleaned_unmatched_diamond_queries.txt\n",
    "#Remove the header (first two lines) "
   ]
  },
  {
   "cell_type": "code",
   "execution_count": 41,
   "metadata": {},
   "outputs": [],
   "source": [
    "!grep -v '^[0-9]' cleaned_unmatched_diamond_queries.txt > final_unmatched_diamond_queries.txt\n",
    "#Remove the lines that begin with numbers (added as notation by diff function earlier)"
   ]
  },
  {
   "cell_type": "code",
   "execution_count": 42,
   "metadata": {},
   "outputs": [
    {
     "name": "stdout",
     "output_type": "stream",
     "text": [
      "3847 final_unmatched_diamond_queries.txt\r\n"
     ]
    }
   ],
   "source": [
    "!wc -l final_unmatched_diamond_queries.txt\n",
    "#We now have a list of all queries that went unmatched by the DIAMOND BLASTx!"
   ]
  }
 ],
 "metadata": {
  "kernelspec": {
   "display_name": "Python 3",
   "language": "python",
   "name": "python3"
  },
  "language_info": {
   "codemirror_mode": {
    "name": "ipython",
    "version": 3
   },
   "file_extension": ".py",
   "mimetype": "text/x-python",
   "name": "python",
   "nbconvert_exporter": "python",
   "pygments_lexer": "ipython3",
   "version": "3.8.3"
  }
 },
 "nbformat": 4,
 "nbformat_minor": 4
}
