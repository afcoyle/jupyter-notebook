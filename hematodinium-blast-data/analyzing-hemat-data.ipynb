{
 "cells": [
  {
   "cell_type": "markdown",
   "metadata": {},
   "source": [
    "**Analyzing hematodinium transcriptome blasts**\n",
    "\n",
    "I'll be analyzing the two blasts (one with a max hsps value of 1, the other with no max hsps value) and determining some of the differences between them\n"
   ]
  },
  {
   "cell_type": "markdown",
   "metadata": {},
   "source": [
    "**Determining length differences between our two blasts**\n"
   ]
  },
  {
   "cell_type": "code",
   "execution_count": null,
   "metadata": {},
   "outputs": [],
   "source": [
    "%%bash\n",
    "#determining number of lines for max_hsps blast\n",
    "wc -l hemat_uniprot_maxhsps_blastx.tab"
   ]
  },
  {
   "cell_type": "code",
   "execution_count": null,
   "metadata": {},
   "outputs": [],
   "source": [
    "%%bash\n",
    "#determining number of lines for blast w/o max_hsps value\n",
    "wc -l hemat_uniprot_nomaxhsps_blastx.tab"
   ]
  },
  {
   "cell_type": "markdown",
   "metadata": {},
   "source": [
    "Note: For both blasts, max_target_seqs was set to 1\n",
    "After some googling, it looks like the discrepancy between maxhsps and nomaxhsps is due to the max_target_seqs variable. Essentially, if there are multiple HSPs for a single query, they'll all be included. However, the addition of max_hsps reduces it to grabbing only 1 HSP per subject"
   ]
  },
  {
   "cell_type": "markdown",
   "metadata": {},
   "source": [
    "**Finding which queries were unmatched**"
   ]
  },
  {
   "cell_type": "code",
   "execution_count": 2,
   "metadata": {},
   "outputs": [
    {
     "name": "stdout",
     "output_type": "stream",
     "text": [
      "6348\n"
     ]
    }
   ],
   "source": [
    "%%bash\n",
    "#Checking how many sequences there were in our original file\n",
    "grep -c \">\" hemat.fasta"
   ]
  },
  {
   "cell_type": "code",
   "execution_count": 3,
   "metadata": {},
   "outputs": [
    {
     "name": "stdout",
     "output_type": "stream",
     "text": [
      "6348\r\n"
     ]
    }
   ],
   "source": [
    "!grep -c \"TRINITY\" hemat.fasta\n",
    "#Alright, all queries start with TRINITY"
   ]
  },
  {
   "cell_type": "code",
   "execution_count": null,
   "metadata": {},
   "outputs": [],
   "source": [
    "!grep -o 'TRINITY[^ ]*' hemat.fasta > hemat_queries.txt\n",
    "#selecting only query names. NOTE: Keep em as a text file, not .fasta or .tab or anything!"
   ]
  },
  {
   "cell_type": "code",
   "execution_count": null,
   "metadata": {},
   "outputs": [],
   "source": [
    "!grep -o 'TRINITY[^sp]*' hemat_uniprot_maxhsps_blastx.tab > hemat_uniprot_maxhsps_subjects_blastx.txt\n",
    "# selecting only matches"
   ]
  },
  {
   "cell_type": "code",
   "execution_count": 4,
   "metadata": {},
   "outputs": [
    {
     "name": "stdout",
     "output_type": "stream",
     "text": [
      "TRINITY_DN5655_c0_g1_i1\t\r\n",
      "TRINITY_DN5691_c0_g1_i1\t\r\n",
      "TRINITY_DN5627_c0_g1_i1\t\r\n",
      "TRINITY_DN5653_c0_g1_i1\t\r\n",
      "TRINITY_DN5610_c0_g1_i1\t\r\n",
      "TRINITY_DN5607_c0_g1_i1\t\r\n",
      "TRINITY_DN5630_c0_g1_i1\t\r\n",
      "TRINITY_DN5664_c0_g1_i1\t\r\n",
      "TRINITY_DN5613_c0_g1_i1\t\r\n",
      "TRINITY_DN5644_c0_g1_i1\t\r\n"
     ]
    }
   ],
   "source": [
    "!head hemat_uniprot_maxhsps_subjects_blastx.txt\n",
    "#Confirmation that our formatting works!"
   ]
  },
  {
   "cell_type": "code",
   "execution_count": null,
   "metadata": {},
   "outputs": [],
   "source": [
    "!diff -u -w hemat_uniprot_maxhsps_subjects_blastx.txt hemat_queries.txt | grep -o '+[^ ]*' > unmatched_queries.txt\n",
    "#find differences between our matches and queries, output all unmatched queries to a new file"
   ]
  },
  {
   "cell_type": "code",
   "execution_count": null,
   "metadata": {},
   "outputs": [],
   "source": [
    "!head unmatched_queries.txt\n",
    "# looks like we've still got some pesky notation laying around..."
   ]
  },
  {
   "cell_type": "code",
   "execution_count": null,
   "metadata": {},
   "outputs": [],
   "source": [
    "!tr -d \\+ < unmatched_queries.txt >cleaned_unmatched_queries.txt\n",
    "#Eliminate all + signs from the file"
   ]
  },
  {
   "cell_type": "code",
   "execution_count": null,
   "metadata": {},
   "outputs": [],
   "source": [
    "!head cleaned_unmatched_queries.txt\n",
    "#The header from our diff command is still there..."
   ]
  },
  {
   "cell_type": "code",
   "execution_count": null,
   "metadata": {},
   "outputs": [],
   "source": [
    "!sed -i '1,2d;' cleaned_unmatched_queries.txt\n",
    "#Delete the first two lines of the file - first line is empty, second is 1,223"
   ]
  },
  {
   "cell_type": "code",
   "execution_count": null,
   "metadata": {},
   "outputs": [],
   "source": [
    "!head cleaned_unmatched_queries.txt\n",
    "#Success!! We now have a full list of unmatched queries"
   ]
  },
  {
   "cell_type": "code",
   "execution_count": null,
   "metadata": {},
   "outputs": [],
   "source": [
    "!grep -c \"TRINITY\" cleaned_unmatched_queries.txt\n",
    "#Okay, it's got the correct number of queries"
   ]
  },
  {
   "cell_type": "code",
   "execution_count": null,
   "metadata": {},
   "outputs": [],
   "source": [
    "!wc -l cleaned_unmatched_queries.txt\n",
    "#But the total number of lines is off by 50. Ran cat, and looks like there's 50 lines that are just numbers"
   ]
  },
  {
   "cell_type": "code",
   "execution_count": null,
   "metadata": {},
   "outputs": [],
   "source": [
    "!sort hemat_uniprot_maxhsps_subjects_blastx.txt | uniq -d\n",
    "#Checking it's not from duplicates in either input file - uniq searches for unique lines, -d prints only duplicates"
   ]
  },
  {
   "cell_type": "code",
   "execution_count": null,
   "metadata": {},
   "outputs": [],
   "source": [
    "!sort hemat_queries.txt | uniq -d\n",
    "#Finishing the duplicate check - again, none found"
   ]
  },
  {
   "cell_type": "code",
   "execution_count": null,
   "metadata": {},
   "outputs": [],
   "source": [
    "!grep -v '^[0-9]' cleaned_unmatched_queries.txt > final_unmatched_queries.txt\n",
    "#Alright, let's get rid of all those lines that begin with numbers"
   ]
  },
  {
   "cell_type": "code",
   "execution_count": null,
   "metadata": {},
   "outputs": [],
   "source": [
    "!wc -l final_unmatched_queries.txt\n",
    "#Perfect! We now have a full list of all unmatched queries!"
   ]
  },
  {
   "cell_type": "markdown",
   "metadata": {},
   "source": [
    "**Re-run BLAST using DIAMOND BLASTx**\n",
    "To download DIAMOND, follow the instructions at http://www.diamondsearch.org/index.php"
   ]
  },
  {
   "cell_type": "code",
   "execution_count": 6,
   "metadata": {
    "scrolled": false
   },
   "outputs": [],
   "source": [
    "!cd bin"
   ]
  },
  {
   "cell_type": "code",
   "execution_count": 15,
   "metadata": {},
   "outputs": [
    {
     "name": "stdout",
     "output_type": "stream",
     "text": [
      "analyzing-hemat-data.ipynb     hemat_uniprot_maxhsps_blastx.tab\r\n",
      "bin\t\t\t       hemat_uniprot_maxhsps_subjects_blastx.txt\r\n",
      "cleaned_unmatched_queries.txt  hemat_uniprot_nomaxhsps_blastx.tab\r\n",
      "diamond\t\t\t       hematodinium-script.ipynb\r\n",
      "diamond-linux64.tar\t       results\r\n",
      "doc\t\t\t       uniprot_sprot_diamond.dmnd\r\n",
      "hemat.fasta\t\t       unmatched_queries.txt\r\n",
      "hemat_queries.txt\r\n"
     ]
    }
   ],
   "source": [
    "!ls"
   ]
  },
  {
   "cell_type": "code",
   "execution_count": 2,
   "metadata": {},
   "outputs": [
    {
     "name": "stdout",
     "output_type": "stream",
     "text": [
      "/bin/bash: diamond: command not found\r\n"
     ]
    }
   ],
   "source": [
    "!diamond blastx -d uniprot_sprot_diamond -q hemat.fasta -o diamondblast.m8"
   ]
  },
  {
   "cell_type": "code",
   "execution_count": 3,
   "metadata": {},
   "outputs": [
    {
     "name": "stdout",
     "output_type": "stream",
     "text": [
      "TRINITY_DN5655_c0_g1_i1\tsp|P20035|HGXR_PLAFG\t56.481\t216\t90\t3\t63\t707\t15\t227\t6.36e-81\t246\r\n",
      "TRINITY_DN5691_c0_g1_i1\tsp|Q8C4J7|TBL3_MOUSE\t42.857\t245\t126\t5\t712\t17\t400\t643\t1.84e-57\t198\r\n",
      "TRINITY_DN5627_c0_g1_i1\tsp|Q9NX58|LYAR_HUMAN\t39.706\t136\t77\t3\t20\t418\t1\t134\t4.59e-26\t105\r\n",
      "TRINITY_DN5653_c0_g1_i1\tsp|P48598|IF4E_DROME\t43.506\t154\t78\t4\t271\t729\t81\t226\t8.12e-30\t117\r\n",
      "TRINITY_DN5610_c0_g1_i1\tsp|P34736|TKT_PICST\t50.725\t276\t130\t2\t824\t15\t311\t586\t7.46e-86\t273\r\n",
      "TRINITY_DN5607_c0_g1_i1\tsp|Q9VXK6|IF5_DROME\t43.860\t171\t89\t4\t520\t14\t4\t169\t3.54e-38\t141\r\n",
      "TRINITY_DN5630_c0_g1_i1\tsp|Q803X4|DCA13_DANRE\t52.809\t445\t207\t2\t1393\t68\t1\t445\t1.77e-166\t480\r\n",
      "TRINITY_DN5664_c0_g1_i1\tsp|Q8K339|KIN17_MOUSE\t41.065\t263\t148\t4\t811\t38\t1\t261\t2.07e-61\t202\r\n",
      "TRINITY_DN5613_c0_g1_i1\tsp|Q54ED4|GRWD1_DICDI\t44.796\t221\t110\t4\t16\t657\t264\t479\t4.84e-61\t202\r\n",
      "TRINITY_DN5644_c0_g1_i1\tsp|Q9FNK4|OAT_ARATH\t30.928\t291\t183\t8\t70\t936\t171\t445\t3.71e-28\t118\r\n"
     ]
    }
   ],
   "source": [
    "!head hemat_uniprot_maxhsps_blastx.tab"
   ]
  },
  {
   "cell_type": "code",
   "execution_count": null,
   "metadata": {},
   "outputs": [],
   "source": []
  }
 ],
 "metadata": {
  "kernelspec": {
   "display_name": "Python 3",
   "language": "python",
   "name": "python3"
  },
  "language_info": {
   "codemirror_mode": {
    "name": "ipython",
    "version": 3
   },
   "file_extension": ".py",
   "mimetype": "text/x-python",
   "name": "python",
   "nbconvert_exporter": "python",
   "pygments_lexer": "ipython3",
   "version": "3.8.3"
  }
 },
 "nbformat": 4,
 "nbformat_minor": 4
}
