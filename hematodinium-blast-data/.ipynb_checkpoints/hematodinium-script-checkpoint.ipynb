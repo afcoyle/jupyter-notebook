{
 "cells": [
  {
   "cell_type": "markdown",
   "metadata": {},
   "source": [
    "**BLASTing hematodinium transcriptome against Swiss-prot database**\n",
    "\n",
    "As my first project upon joining the Roberts lab to familiarize myself with Github, Ubuntu, and Jupyter, I'm blasting a hematodinium transcriptome! \n"
   ]
  },
  {
   "cell_type": "code",
   "execution_count": 1,
   "metadata": {
    "scrolled": true
   },
   "outputs": [
    {
     "name": "stdout",
     "output_type": "stream",
     "text": [
      "  % Total    % Received % Xferd  Average Speed   Time    Time     Time  Current\n",
      "                                 Dload  Upload   Total   Spent    Left  Speed\n",
      "100 85.3M  100 85.3M    0     0   940k      0  0:01:32  0:01:32 --:--:--  930k\n"
     ]
    }
   ],
   "source": [
    "#Download Swiss-prot database from Uniprot\n",
    "!curl -o uniprot_sprot.fasta.gz \\\n",
    "ftp://ftp.uniprot.org/pub/databases/uniprot/current_release/knowledgebase/complete/uniprot_sprot.fasta.gz"
   ]
  },
  {
   "cell_type": "code",
   "execution_count": 3,
   "metadata": {},
   "outputs": [],
   "source": [
    "%%bash\n",
    "#Unzip Swiss-prot database\n",
    "gunzip uniprot_sprot.fasta.gz"
   ]
  },
  {
   "cell_type": "code",
   "execution_count": 4,
   "metadata": {},
   "outputs": [
    {
     "name": "stdout",
     "output_type": "stream",
     "text": [
      "\n",
      "\n",
      "Building a new DB, current time: 09/22/2020 16:42:02\n",
      "New DB name:   /mnt/c/Users/acoyl/Documents/GitHub/jupyter-notebook/hematodinium-blast-data/uniprot_sprot_r2020_09\n",
      "New DB title:  /mnt/c/Users/acoyl/Documents/GitHub/jupyter-notebook/hematodinium-blast-data/uniprot_sprot.fasta\n",
      "Sequence type: Protein\n",
      "Keep MBits: T\n",
      "Maximum file size: 1000000000B\n",
      "Adding sequences from FASTA; added 563082 sequences in 78.6086 seconds.\n"
     ]
    }
   ],
   "source": [
    "%%bash\n",
    "#Create Prot database\n",
    "makeblastdb \\\n",
    "-in /mnt/c/Users/acoyl/Documents/GitHub/jupyter-notebook/hematodinium-blast-data/uniprot_sprot.fasta \\\n",
    "-dbtype prot \\\n",
    "-out /mnt/c/Users/acoyl/Documents/GitHub/jupyter-notebook/hematodinium-blast-data/uniprot_sprot_r2020_09"
   ]
  },
  {
   "cell_type": "code",
   "execution_count": 5,
   "metadata": {},
   "outputs": [
    {
     "name": "stderr",
     "output_type": "stream",
     "text": [
      "  % Total    % Received % Xferd  Average Speed   Time    Time     Time  Current\n",
      "                                 Dload  Upload   Total   Spent    Left  Speed\n",
      "\r",
      "  0     0    0     0    0     0      0      0 --:--:-- --:--:-- --:--:--     0\r",
      "  0     0    0     0    0     0      0      0 --:--:-- --:--:-- --:--:--     0\r",
      " 24 4420k   24 1070k    0     0   870k      0  0:00:05  0:00:01  0:00:04  870k\r",
      "100 4420k  100 4420k    0     0  2092k      0  0:00:02  0:00:02 --:--:-- 2093k\n"
     ]
    }
   ],
   "source": [
    "%%bash\n",
    "#Download hematodinium transcriptome data\n",
    "curl -k --insecure -o hemat.fasta \\\n",
    "https://owl.fish.washington.edu/halfshell/genomic-databank/hemat_transcriptome_v1.5.fasta"
   ]
  },
  {
   "cell_type": "code",
   "execution_count": 6,
   "metadata": {},
   "outputs": [
    {
     "name": "stderr",
     "output_type": "stream",
     "text": [
      "Warning: [blastx] Examining 5 or more matches is recommended\n"
     ]
    }
   ],
   "source": [
    "%%bash\n",
    "#Blast hematodinium transcriptome!\n",
    "#Note: This blast has max_hsps set to 1. Will be performing a second blast with no max_hsps\n",
    "blastx \\\n",
    "-query /mnt/c/Users/acoyl/Documents/GitHub/jupyter-notebook/hematodinium-blast-data/hemat.fasta \\\n",
    "-db /mnt/c/Users/acoyl/Documents/GitHub/jupyter-notebook/hematodinium-blast-data/uniprot_sprot_r2020_09 \\\n",
    "-out /mnt/c/Users/acoyl/Documents/GitHub/jupyter-notebook/hematodinium-blast-data/hemat_uniprot_maxhsps_blastx.tab \\\n",
    "-evalue 1E-20 \\\n",
    "-num_threads 4 \\\n",
    "-max_hsps 1 \\\n",
    "-max_target_seqs 1 \\\n",
    "-outfmt 6"
   ]
  },
  {
   "cell_type": "markdown",
   "metadata": {},
   "source": [
    "**Now just to ensure I have all the desired data, I'm re-running an identical blast, but with no value for max_hsps**"
   ]
  },
  {
   "cell_type": "code",
   "execution_count": 7,
   "metadata": {},
   "outputs": [
    {
     "name": "stderr",
     "output_type": "stream",
     "text": [
      "Warning: [blastx] Examining 5 or more matches is recommended\n"
     ]
    }
   ],
   "source": [
    "%%bash\n",
    "#Second blast of the hematodinium transcriptome, this time with no max_hsps!\n",
    "blastx \\\n",
    "-query /mnt/c/Users/acoyl/Documents/GitHub/jupyter-notebook/hematodinium-blast-data/hemat.fasta \\\n",
    "-db /mnt/c/Users/acoyl/Documents/GitHub/jupyter-notebook/hematodinium-blast-data/uniprot_sprot_r2020_09 \\\n",
    "-out /mnt/c/Users/acoyl/Documents/GitHub/jupyter-notebook/hematodinium-blast-data/hemat_uniprot_nomaxhsps_blastx.tab \\\n",
    "-evalue 1E-20 \\\n",
    "-num_threads 4 \\\n",
    "-max_target_seqs 1 \\\n",
    "-outfmt 6"
   ]
  },
  {
   "cell_type": "code",
   "execution_count": 8,
   "metadata": {},
   "outputs": [
    {
     "name": "stdout",
     "output_type": "stream",
     "text": [
      "hemat.fasta\t\t\t    uniprot_sprot.fasta\r\n",
      "hemat_uniprot_maxhsps_blastx.tab    uniprot_sprot_r2020_09.phr\r\n",
      "hemat_uniprot_nomaxhsps_blastx.tab  uniprot_sprot_r2020_09.pin\r\n",
      "hematodinium-script.ipynb\t    uniprot_sprot_r2020_09.psq\r\n"
     ]
    }
   ],
   "source": [
    "!ls"
   ]
  },
  {
   "cell_type": "code",
   "execution_count": null,
   "metadata": {},
   "outputs": [],
   "source": []
  }
 ],
 "metadata": {
  "kernelspec": {
   "display_name": "Python 3",
   "language": "python",
   "name": "python3"
  },
  "language_info": {
   "codemirror_mode": {
    "name": "ipython",
    "version": 3
   },
   "file_extension": ".py",
   "mimetype": "text/x-python",
   "name": "python",
   "nbconvert_exporter": "python",
   "pygments_lexer": "ipython3",
   "version": "3.8.3"
  }
 },
 "nbformat": 4,
 "nbformat_minor": 4
}
