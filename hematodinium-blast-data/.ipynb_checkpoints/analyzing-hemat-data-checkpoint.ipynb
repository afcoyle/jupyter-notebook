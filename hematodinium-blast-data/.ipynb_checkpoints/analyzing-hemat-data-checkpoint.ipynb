{
 "cells": [
  {
   "cell_type": "markdown",
   "metadata": {},
   "source": [
    "**Analyzing hematodinium transcriptome blasts**\n",
    "\n",
    "I'll be analyzing the two blasts (one with a max hsps value of 1, the other with no max hsps value) and determining some of the differences between them\n"
   ]
  },
  {
   "cell_type": "code",
   "execution_count": 1,
   "metadata": {},
   "outputs": [
    {
     "name": "stdout",
     "output_type": "stream",
     "text": [
      "/mnt/c/Users/acoyl/Documents/GitHub/jupyter-notebook/hematodinium-blast-data\n"
     ]
    }
   ],
   "source": [
    "%%bash\n",
    "pwd"
   ]
  },
  {
   "cell_type": "code",
   "execution_count": 3,
   "metadata": {},
   "outputs": [
    {
     "name": "stdout",
     "output_type": "stream",
     "text": [
      "analyzing-hemat-data.ipynb\n",
      "hemat.fasta\n",
      "hemat_uniprot_maxhsps_blastx.tab\n",
      "hemat_uniprot_nomaxhsps_blastx.tab\n",
      "hematodinium-script.ipynb\n",
      "uniprot_sprot.fasta\n",
      "uniprot_sprot_r2020_09.phr\n",
      "uniprot_sprot_r2020_09.pin\n",
      "uniprot_sprot_r2020_09.psq\n"
     ]
    }
   ],
   "source": [
    "%%bash\n",
    "ls"
   ]
  },
  {
   "cell_type": "code",
   "execution_count": 4,
   "metadata": {},
   "outputs": [
    {
     "name": "stdout",
     "output_type": "stream",
     "text": [
      "2862 hemat_uniprot_maxhsps_blastx.tab\n"
     ]
    }
   ],
   "source": [
    "%%bash\n",
    "#determining number of lines for max_hsps blast\n",
    "wc -l hemat_uniprot_maxhsps_blastx.tab"
   ]
  },
  {
   "cell_type": "code",
   "execution_count": 5,
   "metadata": {},
   "outputs": [
    {
     "name": "stdout",
     "output_type": "stream",
     "text": [
      "2941 hemat_uniprot_nomaxhsps_blastx.tab\n"
     ]
    }
   ],
   "source": [
    "%%bash\n",
    "#determining number of lines for blast w/o max_hsps value\n",
    "wc -l hemat_uniprot_nomaxhsps_blastx.tab"
   ]
  },
  {
   "cell_type": "markdown",
   "metadata": {},
   "source": [
    "Note: For both blasts, max_target_seqs was set to 1\n",
    "After some googling, it looks like the discrepancy between maxhsps and nomaxhsps is due to the max_target_seqs variable. Essentially, if there are multiple HSPs for a single query, they'll all be included. However, the addition of max_hsps reduces it to grabbing only 1 HSP per subject"
   ]
  },
  {
   "cell_type": "code",
   "execution_count": 8,
   "metadata": {},
   "outputs": [
    {
     "name": "stdout",
     "output_type": "stream",
     "text": [
      "6348\n"
     ]
    }
   ],
   "source": [
    "%%bash\n",
    "#Checking how many sequences there were in our original file\n",
    "grep -c \">\" hemat.fasta"
   ]
  },
  {
   "cell_type": "code",
   "execution_count": 98,
   "metadata": {},
   "outputs": [
    {
     "name": "stdout",
     "output_type": "stream",
     "text": [
      "6348\r\n"
     ]
    }
   ],
   "source": [
    "!grep -c \"TRINITY\" hemat.fasta\n",
    "#Alright, all queries start with TRINITY"
   ]
  },
  {
   "cell_type": "code",
   "execution_count": 107,
   "metadata": {},
   "outputs": [],
   "source": [
    "!grep -o 'TRINITY[^ ]*' hemat.fasta > hemat_queries.fasta\n",
    "#selecting only query names"
   ]
  },
  {
   "cell_type": "code",
   "execution_count": 113,
   "metadata": {},
   "outputs": [
    {
     "name": "stdout",
     "output_type": "stream",
     "text": [
      "TRINITY_DN5656_c0_g1_i1\r\n",
      "TRINITY_DN5625_c0_g1_i1\r\n",
      "TRINITY_DN5655_c0_g1_i1\r\n",
      "TRINITY_DN5680_c0_g1_i1\r\n",
      "TRINITY_DN5691_c0_g1_i1\r\n",
      "TRINITY_DN5627_c0_g1_i1\r\n",
      "TRINITY_DN5636_c0_g1_i1\r\n",
      "TRINITY_DN5653_c0_g1_i1\r\n",
      "TRINITY_DN5633_c0_g1_i1\r\n",
      "TRINITY_DN5693_c0_g1_i1\r\n"
     ]
    }
   ],
   "source": [
    "!head hemat_queries.fasta\n",
    "#looks like it worked!"
   ]
  },
  {
   "cell_type": "code",
   "execution_count": 106,
   "metadata": {},
   "outputs": [],
   "source": [
    "!grep -o 'TRINITY[^sp]*' hemat_uniprot_maxhsps_blastx.tab > hemat_uniprot_maxhsps_subjects_blastx.tab\n",
    "# selecting only subjects"
   ]
  },
  {
   "cell_type": "code",
   "execution_count": 109,
   "metadata": {},
   "outputs": [
    {
     "name": "stdout",
     "output_type": "stream",
     "text": [
      "TRINITY_DN5655_c0_g1_i1\t\r\n",
      "TRINITY_DN5691_c0_g1_i1\t\r\n",
      "TRINITY_DN5627_c0_g1_i1\t\r\n",
      "TRINITY_DN5653_c0_g1_i1\t\r\n",
      "TRINITY_DN5610_c0_g1_i1\t\r\n",
      "TRINITY_DN5607_c0_g1_i1\t\r\n",
      "TRINITY_DN5630_c0_g1_i1\t\r\n",
      "TRINITY_DN5664_c0_g1_i1\t\r\n",
      "TRINITY_DN5613_c0_g1_i1\t\r\n",
      "TRINITY_DN5644_c0_g1_i1\t\r\n"
     ]
    }
   ],
   "source": [
    "!head hemat_uniprot_maxhsps_subjects_blastx.tab\n",
    "#That one worked too - now we've got a list of queries and a list of subjects!"
   ]
  },
  {
   "cell_type": "code",
   "execution_count": 134,
   "metadata": {},
   "outputs": [],
   "source": [
    "!diff -u -w hemat_uniprot_maxhsps_subjects_blastx.tab hemat_queries.fasta \\\n",
    "| grep -Po \"^< \\K.*\" > unmatched_queries.tab"
   ]
  },
  {
   "cell_type": "code",
   "execution_count": 141,
   "metadata": {},
   "outputs": [
    {
     "name": "stdout",
     "output_type": "stream",
     "text": [
      "analyzing-hemat-data.ipynb\t\t   hematodinium-script.ipynb\r\n",
      "hemat.fasta\t\t\t\t   uniprot_sprot.fasta\r\n",
      "hemat_queries.fasta\t\t\t   uniprot_sprot_r2020_09.phr\r\n",
      "hemat_uniprot_maxhsps_blastx.tab\t   uniprot_sprot_r2020_09.pin\r\n",
      "hemat_uniprot_maxhsps_subjects_blastx.tab  uniprot_sprot_r2020_09.psq\r\n",
      "hemat_uniprot_nomaxhsps_blastx.tab\r\n"
     ]
    }
   ],
   "source": [
    "!ls"
   ]
  },
  {
   "cell_type": "code",
   "execution_count": null,
   "metadata": {},
   "outputs": [],
   "source": []
  }
 ],
 "metadata": {
  "kernelspec": {
   "display_name": "Python 3",
   "language": "python",
   "name": "python3"
  },
  "language_info": {
   "codemirror_mode": {
    "name": "ipython",
    "version": 3
   },
   "file_extension": ".py",
   "mimetype": "text/x-python",
   "name": "python",
   "nbconvert_exporter": "python",
   "pygments_lexer": "ipython3",
   "version": "3.8.3"
  }
 },
 "nbformat": 4,
 "nbformat_minor": 4
}
